{
 "cells": [
  {
   "cell_type": "code",
   "execution_count": 1,
   "metadata": {},
   "outputs": [],
   "source": [
    "## R Script for the Group Project, Stats 506 F20\n",
    "##\n",
    "## Linear and non-linear combinations of regression coefficients\n",
    "## Data source: GLobal suicide rates from \n",
    "## https://www.kaggle.com/russellyates88/suicide-rates-overview-1985-to-2016\n",
    "##  \n",
    "##\n",
    "## Author: Yingyi Yang, yyingyi@umich.edu\n",
    "## Updated: November 13, 2020\n",
    "\n",
    "#! Limit lines to 79 characters with rare exceptions. \n",
    "# 79: -------------------------------------------------------------------------"
   ]
  },
  {
   "cell_type": "code",

   "execution_count": 75,

   "execution_count": 2,

   "metadata": {},
   "outputs": [],
   "source": [
    "import pandas as pd\n",

    "from datetime import datetime\n",

    "from scipy import stats\n",
    "import numpy as np\n",
    "import statsmodels.api as sm\n",
    "from itertools import combinations_with_replacement \n",
    "import matplotlib.pyplot as plt\n",
    "import os"
   ]
  },
  {
   "cell_type": "markdown",
   "metadata": {},
   "source": [
    "### 1. Data preprocessing "
   ]
  },
  {
   "cell_type": "code",

   "execution_count": 2,

   "metadata": {},
   "outputs": [],
   "source": [
    "url = \"https://raw.githubusercontent.com/aravind1338/506F20GroupProject/main/master.csv\"\n",
    "df = pd.read_csv(url, index_col=0)"
   ]
  },
  {
   "cell_type": "code",
   "execution_count": 3,
   "metadata": {},
   "outputs": [
    {
     "data": {
      "text/plain": [
       "(27820, 11)"
      ]
     },
     "execution_count": 3,
     "metadata": {},
     "output_type": "execute_result"
    }
   ],

   "execution_count": 6,
   "metadata": {},
   "outputs": [],
   "source": [
    "df.rename(columns = {\"suicides/100k pop\": \"suicides_per_100k\", \"gdp_per_capita ($)\": \"gdp_per_capita\"}, inplace=True)"
   ]
  },
  {
   "cell_type": "code",
   "execution_count": 7,
   "metadata": {},
   "outputs": [],
   "source": [
    "df.reset_index(inplace = True)"
   ]
  },
  {
   "cell_type": "markdown",
   "metadata": {},

   "source": [
    "### 2. Fitted Poisson model"
   ]
  },
  {
   "cell_type": "code",
   "execution_count": 4,
   "metadata": {},
   "outputs": [
    {

     "data": {
      "text/plain": [
       "Index(['year', 'sex', 'age', 'suicides_no', 'population', 'suicides/100k pop',\n",
       "       'country-year', 'HDI for year', ' gdp_for_year ($) ',\n",
       "       'gdp_per_capita ($)', 'generation'],\n",
       "      dtype='object')"
      ]
     },
     "execution_count": 4,
     "metadata": {},
     "output_type": "execute_result"

     "name": "stdout",
     "output_type": "stream",
     "text": [
      "                 Generalized Linear Model Regression Results                  \n",
      "==============================================================================\n",
      "Dep. Variable:            suicides_no   No. Observations:                27820\n",
      "Model:                            GLM   Df Residuals:                    27781\n",
      "Model Family:                 Poisson   Df Model:                           38\n",
      "Link Function:                    log   Scale:                          1.0000\n",
      "Method:                          IRLS   Log-Likelihood:            -1.6427e+06\n",
      "Date:                Fri, 13 Nov 2020   Deviance:                   3.1549e+06\n",
      "Time:                        20:56:59   Pearson chi2:                 3.58e+06\n",
      "No. Iterations:                     9                                         \n",
      "Covariance Type:            nonrobust                                         \n",
      "=========================================================================================\n",
      "                            coef    std err          z      P>|z|      [0.025      0.975]\n",
      "-----------------------------------------------------------------------------------------\n",
      "Intercept               -10.2120      0.003  -3199.223      0.000     -10.218     -10.206\n",
      "C(year)[T.1986]           0.0156      0.004      3.796      0.000       0.008       0.024\n",
      "C(year)[T.1987]          -0.0059      0.004     -1.464      0.143      -0.014       0.002\n",
      "C(year)[T.1988]          -0.0267      0.004     -6.493      0.000      -0.035      -0.019\n",
      "C(year)[T.1989]           0.0989      0.004     25.646      0.000       0.091       0.106\n",
      "C(year)[T.1990]           0.1062      0.004     28.586      0.000       0.099       0.113\n",
      "C(year)[T.1991]           0.1106      0.004     29.898      0.000       0.103       0.118\n",
      "C(year)[T.1992]           0.1277      0.004     34.943      0.000       0.121       0.135\n",
      "C(year)[T.1993]           0.1929      0.004     53.207      0.000       0.186       0.200\n",
      "C(year)[T.1994]           0.2191      0.004     60.879      0.000       0.212       0.226\n",
      "C(year)[T.1995]           0.2352      0.004     65.834      0.000       0.228       0.242\n",
      "C(year)[T.1996]           0.2063      0.004     57.882      0.000       0.199       0.213\n",
      "C(year)[T.1997]           0.1615      0.004     45.125      0.000       0.154       0.168\n",
      "C(year)[T.1998]           0.1803      0.004     50.676      0.000       0.173       0.187\n",
      "C(year)[T.1999]           0.1717      0.004     48.449      0.000       0.165       0.179\n",
      "C(year)[T.2000]           0.1533      0.004     43.259      0.000       0.146       0.160\n",
      "C(year)[T.2001]           0.1510      0.004     42.469      0.000       0.144       0.158\n",
      "C(year)[T.2002]           0.1311      0.004     37.008      0.000       0.124       0.138\n",
      "C(year)[T.2003]           0.1166      0.004     32.869      0.000       0.110       0.124\n",
      "C(year)[T.2004]           0.0916      0.004     25.551      0.000       0.085       0.099\n",
      "C(year)[T.2005]           0.0633      0.004     17.557      0.000       0.056       0.070\n",
      "C(year)[T.2006]           0.0009      0.004      0.237      0.813      -0.006       0.008\n",
      "C(year)[T.2007]          -0.0159      0.004     -4.404      0.000      -0.023      -0.009\n",
      "C(year)[T.2008]          -0.0131      0.004     -3.629      0.000      -0.020      -0.006\n",
      "C(year)[T.2009]          -0.0382      0.004    -10.639      0.000      -0.045      -0.031\n",
      "C(year)[T.2010]          -0.0737      0.004    -20.442      0.000      -0.081      -0.067\n",
      "C(year)[T.2011]          -0.0853      0.004    -23.584      0.000      -0.092      -0.078\n",
      "C(year)[T.2012]          -0.0848      0.004    -23.319      0.000      -0.092      -0.078\n",
      "C(year)[T.2013]          -0.1074      0.004    -29.378      0.000      -0.115      -0.100\n",
      "C(year)[T.2014]          -0.1231      0.004    -33.704      0.000      -0.130      -0.116\n",
      "C(year)[T.2015]          -0.1436      0.004    -38.779      0.000      -0.151      -0.136\n",
      "C(year)[T.2016]          -0.2727      0.009    -31.965      0.000      -0.289      -0.256\n",
      "C(sex)[T.male]            1.3081      0.001   1427.700      0.000       1.306       1.310\n",
      "C(age)[T.25-34 years]     0.3609      0.001    247.459      0.000       0.358       0.364\n",
      "C(age)[T.35-54 years]     0.6218      0.001    483.801      0.000       0.619       0.624\n",
      "C(age)[T.5-14 years]     -2.7167      0.005   -601.906      0.000      -2.726      -2.708\n",
      "C(age)[T.55-74 years]     0.7660      0.001    561.886      0.000       0.763       0.769\n",
      "C(age)[T.75+ years]       1.1644      0.002    693.135      0.000       1.161       1.168\n",
      "gdp_per_capita         3.522e-07   2.37e-08     14.875      0.000    3.06e-07    3.99e-07\n",
      "=========================================================================================\n"
     ]

    }
   ],
   "source": [
    "fml = \"suicides_no ~ C(year) + C(sex) + C(age) + gdp_per_capita\"\n",
    "model = sm.GLM.from_formula(fml, offset=np.log(df['population']), data=df, family=sm.families.Poisson())\n",
    "res = model.fit()\n",
    "print(res.summary())"
   ]
  },
  {
   "cell_type": "code",

   "execution_count": 5,

   "metadata": {},
   "outputs": [],
   "source": [
    "cov_matrix = res.cov_params()\n",
    "coeffs = res.params"
   ]
  },
  {
   "cell_type": "markdown",
   "metadata": {},
   "source": [
    "### 3. Linear combination "
   ]
  },
  {
   "cell_type": "code",

   "execution_count": 6,

   "metadata": {},
   "outputs": [],
   "source": [
    "# Function to calculate estimate, std error and confidence intervals\n",
    "  # Inputs: var_list is a list of variables to compare (3 items expected)\n",
    "  #         code_list is the list of corresponding factor codes for var_list\n",
    "  # Output: A list containing the estimate, std error, lower and upper limits\n",
    "  #         for the linear combination\n",
    "\n",
    "\n",
    "def lcom(var_list, coeffs, cov_matrix, alpha=0.05):\n",
    "    \n",
    "    trans_list = ['Intercept']\n",
    "    coeffs_list = [coeffs['Intercept']]\n",
    "       \n",
    "    for name in var_list:\n",
    "        if \"age\" in name:\n",
    "            trans = \"C(age)[T.\"+name[3:]+\"]\"\n",
    "        elif \"sex\" in name:\n",
    "            trans = \"C(sex)[T.\"+name[3:]+\"]\"\n",
    "        elif \"year\" in name:\n",
    "            trans = \"C(year)[T.\"+name[4:]+\"]\"\n",
    "        if trans in coeffs.index:\n",
    "            trans_list.append(trans)\n",
    "            coeffs_list.append(coeffs[trans])\n",
    "    \n",
    "    linear_est = sum(coeffs_list)\n",
    "    score = stats.t.ppf(1-alpha/2, res.df_resid)\n",
    "\n",
    "    variance = 0\n",
    "    for a, b in combinations_with_replacement(trans_list, 2):\n",
    "        if a == b:\n",
    "            variance += cov_matrix[a][b]\n",
    "        else:\n",
    "            variance += 2*cov_matrix[a][b]\n",
    "    \n",
    "    output = pd.DataFrame({\"estimate\": [linear_est], \n",
    "                           \"se\": [np.sqrt(variance)],\n",
    "                           \"lower\": [linear_est-score*np.sqrt(variance)], \n",
    "                           \"upper\": [linear_est+score*np.sqrt(variance)]})\n",
    "    \n",
    "    return output"
   ]
  },
  {
   "cell_type": "code",
   "execution_count": 11,
   "metadata": {},
   "outputs": [
    {
     "data": {
      "text/html": [
       "<div>\n",
       "<style scoped>\n",
       "    .dataframe tbody tr th:only-of-type {\n",
       "        vertical-align: middle;\n",
       "    }\n",
       "\n",
       "    .dataframe tbody tr th {\n",
       "        vertical-align: top;\n",
       "    }\n",
       "\n",
       "    .dataframe thead th {\n",
       "        text-align: right;\n",
       "    }\n",
       "</style>\n",
       "<table border=\"1\" class=\"dataframe\">\n",
       "  <thead>\n",
       "    <tr style=\"text-align: right;\">\n",
       "      <th></th>\n",

       "      <th>year</th>\n",
       "      <th>sex</th>\n",
       "      <th>age</th>\n",
       "      <th>suicides_no</th>\n",
       "      <th>population</th>\n",
       "      <th>suicides_per_100k</th>\n",
       "      <th>country-year</th>\n",
       "      <th>HDI for year</th>\n",
       "      <th>gdp_for_year ($)</th>\n",
       "      <th>gdp_per_capita</th>\n",
       "      <th>generation</th>\n",

       "      <th>estimate</th>\n",
       "      <th>se</th>\n",
       "      <th>lower</th>\n",
       "      <th>upper</th>\n",

       "    </tr>\n",
       "    <tr>\n",
       "      <th>country</th>\n",
       "      <th></th>\n",
       "      <th></th>\n",
       "      <th></th>\n",
       "      <th></th>\n",
       "      <th></th>\n",
       "      <th></th>\n",
       "      <th></th>\n",
       "      <th></th>\n",
       "      <th></th>\n",
       "      <th></th>\n",
       "      <th></th>\n",
       "    </tr>\n",
       "  </thead>\n",
       "  <tbody>\n",
       "    <tr>\n",

       "      <th>Albania</th>\n",
       "      <td>1987</td>\n",
       "      <td>male</td>\n",
       "      <td>15-24 years</td>\n",
       "      <td>21</td>\n",
       "      <td>312900</td>\n",
       "      <td>6.71</td>\n",
       "      <td>Albania1987</td>\n",
       "      <td>NaN</td>\n",
       "      <td>2,156,624,900</td>\n",
       "      <td>796</td>\n",
       "      <td>Generation X</td>\n",
       "    </tr>\n",
       "    <tr>\n",
       "      <th>Albania</th>\n",
       "      <td>1987</td>\n",
       "      <td>male</td>\n",
       "      <td>35-54 years</td>\n",
       "      <td>16</td>\n",
       "      <td>308000</td>\n",
       "      <td>5.19</td>\n",
       "      <td>Albania1987</td>\n",
       "      <td>NaN</td>\n",
       "      <td>2,156,624,900</td>\n",
       "      <td>796</td>\n",
       "      <td>Silent</td>\n",
       "    </tr>\n",
       "    <tr>\n",
       "      <th>Albania</th>\n",
       "      <td>1987</td>\n",
       "      <td>female</td>\n",
       "      <td>15-24 years</td>\n",
       "      <td>14</td>\n",
       "      <td>289700</td>\n",
       "      <td>4.83</td>\n",
       "      <td>Albania1987</td>\n",
       "      <td>NaN</td>\n",
       "      <td>2,156,624,900</td>\n",
       "      <td>796</td>\n",
       "      <td>Generation X</td>\n",
       "    </tr>\n",
       "    <tr>\n",
       "      <th>Albania</th>\n",
       "      <td>1987</td>\n",
       "      <td>male</td>\n",
       "      <td>75+ years</td>\n",
       "      <td>1</td>\n",
       "      <td>21800</td>\n",
       "      <td>4.59</td>\n",
       "      <td>Albania1987</td>\n",
       "      <td>NaN</td>\n",
       "      <td>2,156,624,900</td>\n",
       "      <td>796</td>\n",
       "      <td>G.I. Generation</td>\n",
       "    </tr>\n",
       "    <tr>\n",
       "      <th>Albania</th>\n",
       "      <td>1987</td>\n",
       "      <td>male</td>\n",
       "      <td>25-34 years</td>\n",
       "      <td>9</td>\n",
       "      <td>274300</td>\n",
       "      <td>3.28</td>\n",
       "      <td>Albania1987</td>\n",
       "      <td>NaN</td>\n",
       "      <td>2,156,624,900</td>\n",
       "      <td>796</td>\n",
       "      <td>Boomers</td>\n",

       "      <th>0</th>\n",
       "      <td>-8.686544</td>\n",
       "      <td>0.002471</td>\n",
       "      <td>-8.691387</td>\n",
       "      <td>-8.681701</td>\n",

       "    </tr>\n",
       "  </tbody>\n",
       "</table>\n",
       "</div>"
      ],
      "text/plain": [

       "         year     sex          age  suicides_no  population  \\\n",
       "country                                                       \n",
       "Albania  1987    male  15-24 years           21      312900   \n",
       "Albania  1987    male  35-54 years           16      308000   \n",
       "Albania  1987  female  15-24 years           14      289700   \n",
       "Albania  1987    male    75+ years            1       21800   \n",
       "Albania  1987    male  25-34 years            9      274300   \n",
       "\n",
       "         suicides_per_100k country-year  HDI for year  gdp_for_year ($)   \\\n",
       "country                                                                    \n",
       "Albania               6.71  Albania1987           NaN      2,156,624,900   \n",
       "Albania               5.19  Albania1987           NaN      2,156,624,900   \n",
       "Albania               4.83  Albania1987           NaN      2,156,624,900   \n",
       "Albania               4.59  Albania1987           NaN      2,156,624,900   \n",
       "Albania               3.28  Albania1987           NaN      2,156,624,900   \n",
       "\n",
       "         gdp_per_capita       generation  \n",
       "country                                   \n",
       "Albania             796     Generation X  \n",
       "Albania             796           Silent  \n",
       "Albania             796     Generation X  \n",
       "Albania             796  G.I. Generation  \n",
       "Albania             796          Boomers  "
      ]
     },
     "execution_count": 6,

       "   estimate        se     lower     upper\n",
       "0 -8.686544  0.002471 -8.691387 -8.681701"
      ]
     },
     "execution_count": 11,

     "metadata": {},
     "output_type": "execute_result"
    }
   ],
   "source": [
    "lcom([\"sexmale\", \"age25-34 years\", \"year2015\"], coeffs, cov_matrix, alpha=0.05)"
   ]
  },
  {
   "cell_type": "code",

   "execution_count": 7,

   "execution_count": 12,
   "metadata": {},
   "outputs": [
    {
     "data": {
      "text/html": [
       "<div>\n",
       "<style scoped>\n",
       "    .dataframe tbody tr th:only-of-type {\n",
       "        vertical-align: middle;\n",
       "    }\n",
       "\n",
       "    .dataframe tbody tr th {\n",
       "        vertical-align: top;\n",
       "    }\n",
       "\n",
       "    .dataframe thead th {\n",
       "        text-align: right;\n",
       "    }\n",
       "</style>\n",
       "<table border=\"1\" class=\"dataframe\">\n",
       "  <thead>\n",
       "    <tr style=\"text-align: right;\">\n",
       "      <th></th>\n",
       "      <th>estimate</th>\n",
       "      <th>se</th>\n",
       "      <th>lower</th>\n",
       "      <th>upper</th>\n",
       "    </tr>\n",
       "  </thead>\n",
       "  <tbody>\n",
       "    <tr>\n",
       "      <th>0</th>\n",
       "      <td>-8.479593</td>\n",
       "      <td>0.00231</td>\n",
       "      <td>-8.48412</td>\n",
       "      <td>-8.475065</td>\n",
       "    </tr>\n",
       "  </tbody>\n",
       "</table>\n",
       "</div>"
      ],
      "text/plain": [
       "   estimate       se    lower     upper\n",
       "0 -8.479593  0.00231 -8.48412 -8.475065"
      ]
     },
     "execution_count": 12,
     "metadata": {},
     "output_type": "execute_result"
    }
   ],
   "source": [
    "lcom([\"sexmale\", \"age25-34 years\", \"year2005\"], coeffs, cov_matrix, alpha=0.05)"
   ]
  },
  {
   "cell_type": "code",
   "execution_count": 13,

   "metadata": {},
   "outputs": [
    {
     "data": {
      "text/html": [
       "<div>\n",
       "<style scoped>\n",
       "    .dataframe tbody tr th:only-of-type {\n",
       "        vertical-align: middle;\n",
       "    }\n",
       "\n",
       "    .dataframe tbody tr th {\n",
       "        vertical-align: top;\n",
       "    }\n",
       "\n",
       "    .dataframe thead th {\n",
       "        text-align: right;\n",
       "    }\n",
       "</style>\n",
       "<table border=\"1\" class=\"dataframe\">\n",
       "  <thead>\n",
       "    <tr style=\"text-align: right;\">\n",
       "      <th></th>\n",

       "      <th>HDI for year</th>\n",
       "    </tr>\n",
       "    <tr>\n",
       "      <th>country</th>\n",
       "      <th></th>\n",

       "      <th>estimate</th>\n",
       "      <th>se</th>\n",
       "      <th>lower</th>\n",
       "      <th>upper</th>\n",

       "    </tr>\n",
       "  </thead>\n",
       "  <tbody>\n",
       "    <tr>\n",

       "      <th>Albania</th>\n",
       "      <td>0.619</td>\n",
       "    </tr>\n",
       "    <tr>\n",
       "      <th>Albania</th>\n",
       "      <td>0.619</td>\n",
       "    </tr>\n",
       "    <tr>\n",
       "      <th>Albania</th>\n",
       "      <td>0.619</td>\n",
       "    </tr>\n",
       "    <tr>\n",
       "      <th>Albania</th>\n",
       "      <td>0.619</td>\n",
       "    </tr>\n",
       "    <tr>\n",
       "      <th>Albania</th>\n",
       "      <td>0.619</td>\n",
       "    </tr>\n",
       "    <tr>\n",
       "      <th>...</th>\n",
       "      <td>...</td>\n",
       "    </tr>\n",
       "    <tr>\n",
       "      <th>Uzbekistan</th>\n",
       "      <td>0.675</td>\n",
       "    </tr>\n",
       "    <tr>\n",
       "      <th>Uzbekistan</th>\n",
       "      <td>0.675</td>\n",
       "    </tr>\n",
       "    <tr>\n",
       "      <th>Uzbekistan</th>\n",
       "      <td>0.675</td>\n",
       "    </tr>\n",
       "    <tr>\n",
       "      <th>Uzbekistan</th>\n",
       "      <td>0.675</td>\n",
       "    </tr>\n",
       "    <tr>\n",
       "      <th>Uzbekistan</th>\n",
       "      <td>0.675</td>\n",
       "    </tr>\n",
       "  </tbody>\n",
       "</table>\n",
       "<p>8364 rows × 1 columns</p>\n",
       "</div>"
      ],
      "text/plain": [
       "            HDI for year\n",
       "country                 \n",
       "Albania            0.619\n",
       "Albania            0.619\n",
       "Albania            0.619\n",
       "Albania            0.619\n",
       "Albania            0.619\n",
       "...                  ...\n",
       "Uzbekistan         0.675\n",
       "Uzbekistan         0.675\n",
       "Uzbekistan         0.675\n",
       "Uzbekistan         0.675\n",
       "Uzbekistan         0.675\n",
       "\n",
       "[8364 rows x 1 columns]"
      ]
     },
     "execution_count": 7,

       "      <th>0</th>\n",
       "      <td>-8.425705</td>\n",
       "      <td>0.002379</td>\n",
       "      <td>-8.430369</td>\n",
       "      <td>-8.421042</td>\n",
       "    </tr>\n",
       "  </tbody>\n",
       "</table>\n",
       "</div>"
      ],
      "text/plain": [
       "   estimate        se     lower     upper\n",
       "0 -8.425705  0.002379 -8.430369 -8.421042"
      ]
     },
     "execution_count": 13,

     "metadata": {},
     "output_type": "execute_result"
    }
   ],
   "source": [

    "lcom([\"sexmale\", \"age35-54 years\", \"year2015\"], coeffs, cov_matrix, alpha=0.05)"

   ]
  },
  {
   "cell_type": "code",

   "execution_count": 9,


   "metadata": {},
   "outputs": [
    {
     "data": {
      "text/html": [
       "<div>\n",
       "<style scoped>\n",
       "    .dataframe tbody tr th:only-of-type {\n",
       "        vertical-align: middle;\n",
       "    }\n",
       "\n",
       "    .dataframe tbody tr th {\n",
       "        vertical-align: top;\n",
       "    }\n",
       "\n",
       "    .dataframe thead th {\n",
       "        text-align: right;\n",
       "    }\n",
       "</style>\n",
       "<table border=\"1\" class=\"dataframe\">\n",
       "  <thead>\n",
       "    <tr style=\"text-align: right;\">\n",
       "      <th></th>\n",
       "      <th>estimate</th>\n",
       "      <th>se</th>\n",
       "      <th>lower</th>\n",
       "      <th>upper</th>\n",
       "    </tr>\n",
       "  </thead>\n",
       "  <tbody>\n",
       "    <tr>\n",
       "      <th>0</th>\n",
       "      <td>-9.733814</td>\n",
       "      <td>0.002475</td>\n",
       "      <td>-9.738666</td>\n",
       "      <td>-9.728962</td>\n",
       "    </tr>\n",
       "  </tbody>\n",
       "</table>\n",
       "</div>"
      ],
      "text/plain": [

       "country\n",
       "Albania    15-24 years\n",
       "Albania    35-54 years\n",
       "Albania      75+ years\n",
       "Albania    25-34 years\n",
       "Albania    55-74 years\n",
       "Albania     5-14 years\n",
       "Name: age, dtype: object"
      ]
     },
     "execution_count": 9,

       "   estimate        se     lower     upper\n",
       "0 -9.733814  0.002475 -9.738666 -9.728962"
      ]
     },
     "execution_count": 14,

     "metadata": {},
     "output_type": "execute_result"
    }
   ],
   "source": [

    "df.age.drop_duplicates()"
   ]
  },
  {
   "cell_type": "code",
   "execution_count": 12,
   "metadata": {},
   "outputs": [],
   "source": [
    "df.reset_index(inplace = True)"
   ]
  },
  {
   "cell_type": "markdown",
   "metadata": {},
   "source": [
    "### 2. Fitted Poisson model"

    "lcom([\"sexfemale\", \"age35-54 years\", \"year2015\"], coeffs, cov_matrix, alpha=0.05)"

   ]
  },
  {
   "cell_type": "code",

   "execution_count": 35,
   "metadata": {},
   "outputs": [
    {
     "name": "stdout",
     "output_type": "stream",
     "text": [
      "                 Generalized Linear Model Regression Results                  \n",
      "==============================================================================\n",
      "Dep. Variable:            suicides_no   No. Observations:                27820\n",
      "Model:                            GLM   Df Residuals:                    27781\n",
      "Model Family:                 Poisson   Df Model:                           38\n",
      "Link Function:                    log   Scale:                          1.0000\n",
      "Method:                          IRLS   Log-Likelihood:            -1.6427e+06\n",
      "Date:                Fri, 13 Nov 2020   Deviance:                   3.1549e+06\n",
      "Time:                        14:44:21   Pearson chi2:                 3.58e+06\n",
      "No. Iterations:                     9                                         \n",
      "Covariance Type:            nonrobust                                         \n",
      "=========================================================================================\n",
      "                            coef    std err          z      P>|z|      [0.025      0.975]\n",
      "-----------------------------------------------------------------------------------------\n",
      "Intercept               -10.2120      0.003  -3199.223      0.000     -10.218     -10.206\n",
      "C(year)[T.1986]           0.0156      0.004      3.796      0.000       0.008       0.024\n",
      "C(year)[T.1987]          -0.0059      0.004     -1.464      0.143      -0.014       0.002\n",
      "C(year)[T.1988]          -0.0267      0.004     -6.493      0.000      -0.035      -0.019\n",
      "C(year)[T.1989]           0.0989      0.004     25.646      0.000       0.091       0.106\n",
      "C(year)[T.1990]           0.1062      0.004     28.586      0.000       0.099       0.113\n",
      "C(year)[T.1991]           0.1106      0.004     29.898      0.000       0.103       0.118\n",
      "C(year)[T.1992]           0.1277      0.004     34.943      0.000       0.121       0.135\n",
      "C(year)[T.1993]           0.1929      0.004     53.207      0.000       0.186       0.200\n",
      "C(year)[T.1994]           0.2191      0.004     60.879      0.000       0.212       0.226\n",
      "C(year)[T.1995]           0.2352      0.004     65.834      0.000       0.228       0.242\n",
      "C(year)[T.1996]           0.2063      0.004     57.882      0.000       0.199       0.213\n",
      "C(year)[T.1997]           0.1615      0.004     45.125      0.000       0.154       0.168\n",
      "C(year)[T.1998]           0.1803      0.004     50.676      0.000       0.173       0.187\n",
      "C(year)[T.1999]           0.1717      0.004     48.449      0.000       0.165       0.179\n",
      "C(year)[T.2000]           0.1533      0.004     43.259      0.000       0.146       0.160\n",
      "C(year)[T.2001]           0.1510      0.004     42.469      0.000       0.144       0.158\n",
      "C(year)[T.2002]           0.1311      0.004     37.008      0.000       0.124       0.138\n",
      "C(year)[T.2003]           0.1166      0.004     32.869      0.000       0.110       0.124\n",
      "C(year)[T.2004]           0.0916      0.004     25.551      0.000       0.085       0.099\n",
      "C(year)[T.2005]           0.0633      0.004     17.557      0.000       0.056       0.070\n",
      "C(year)[T.2006]           0.0009      0.004      0.237      0.813      -0.006       0.008\n",
      "C(year)[T.2007]          -0.0159      0.004     -4.404      0.000      -0.023      -0.009\n",
      "C(year)[T.2008]          -0.0131      0.004     -3.629      0.000      -0.020      -0.006\n",
      "C(year)[T.2009]          -0.0382      0.004    -10.639      0.000      -0.045      -0.031\n",
      "C(year)[T.2010]          -0.0737      0.004    -20.442      0.000      -0.081      -0.067\n",
      "C(year)[T.2011]          -0.0853      0.004    -23.584      0.000      -0.092      -0.078\n",
      "C(year)[T.2012]          -0.0848      0.004    -23.319      0.000      -0.092      -0.078\n",
      "C(year)[T.2013]          -0.1074      0.004    -29.378      0.000      -0.115      -0.100\n",
      "C(year)[T.2014]          -0.1231      0.004    -33.704      0.000      -0.130      -0.116\n",
      "C(year)[T.2015]          -0.1436      0.004    -38.779      0.000      -0.151      -0.136\n",
      "C(year)[T.2016]          -0.2727      0.009    -31.965      0.000      -0.289      -0.256\n",
      "C(sex)[T.male]            1.3081      0.001   1427.700      0.000       1.306       1.310\n",
      "C(age)[T.25-34 years]     0.3609      0.001    247.459      0.000       0.358       0.364\n",
      "C(age)[T.35-54 years]     0.6218      0.001    483.801      0.000       0.619       0.624\n",
      "C(age)[T.5-14 years]     -2.7167      0.005   -601.906      0.000      -2.726      -2.708\n",
      "C(age)[T.55-74 years]     0.7660      0.001    561.886      0.000       0.763       0.769\n",
      "C(age)[T.75+ years]       1.1644      0.002    693.135      0.000       1.161       1.168\n",
      "gdp_per_capita         3.522e-07   2.37e-08     14.875      0.000    3.06e-07    3.99e-07\n",
      "=========================================================================================\n"
     ]
    }
   ],
   "source": [
    "fml = \"suicides_no ~ C(year) + C(sex) + C(age) + gdp_per_capita\"\n",
    "model = sm.GLM.from_formula(fml, offset=np.log(df['population']), data=df, family=sm.families.Poisson())\n",
    "res = model.fit()\n",
    "print(res.summary())"
   ]
  },
  {
   "cell_type": "code",
   "execution_count": 46,
   "metadata": {},
   "outputs": [],
   "source": [
    "cov_matrix = res.cov_params()\n",
    "coeffs = res.params"
   ]
  },
  {
   "cell_type": "markdown",
   "metadata": {},
   "source": [
    "### 3. Linear combination "
   "execution_count": 15,
   "metadata": {},
   "outputs": [
    {
     "data": {
      "text/html": [
       "<div>\n",
       "<style scoped>\n",
       "    .dataframe tbody tr th:only-of-type {\n",
       "        vertical-align: middle;\n",
       "    }\n",
       "\n",
       "    .dataframe tbody tr th {\n",
       "        vertical-align: top;\n",
       "    }\n",
       "\n",
       "    .dataframe thead th {\n",
       "        text-align: right;\n",
       "    }\n",
       "</style>\n",
       "<table border=\"1\" class=\"dataframe\">\n",
       "  <thead>\n",
       "    <tr style=\"text-align: right;\">\n",
       "      <th></th>\n",
       "      <th>estimate</th>\n",
       "      <th>se</th>\n",
       "      <th>lower</th>\n",
       "      <th>upper</th>\n",
       "    </tr>\n",
       "  </thead>\n",
       "  <tbody>\n",
       "    <tr>\n",
       "      <th>0</th>\n",
       "      <td>-7.883056</td>\n",
       "      <td>0.002632</td>\n",
       "      <td>-7.888214</td>\n",
       "      <td>-7.877898</td>\n",
       "    </tr>\n",
       "  </tbody>\n",
       "</table>\n",
       "</div>"
      ],
      "text/plain": [
       "   estimate        se     lower     upper\n",
       "0 -7.883056  0.002632 -7.888214 -7.877898"
      ]
     },
     "execution_count": 15,
     "metadata": {},
     "output_type": "execute_result"
    }
   ],
   "source": [
    "lcom([\"sexmale\", \"age75+ years\", \"year2015\"], coeffs, cov_matrix, alpha=0.05)"

   ]
  },
  {
   "cell_type": "code",

   "execution_count": 128,
   "metadata": {},
   "outputs": [],
   "source": [
    "# Function to calculate estimate, std error and confidence intervals\n",
    "  # Inputs: var_list is a list of variables to compare (3 items expected)\n",
    "  #         code_list is the list of corresponding factor codes for var_list\n",
    "  # Output: A list containing the estimate, std error, lower and upper limits\n",
    "  #         for the linear combination\n",
    "\n",
    "\n",
    "def lcom(var_list, coeffs, cov_matrix, alpha=0.05):\n",
    "    \n",
    "    trans_list = ['Intercept']\n",
    "    coeffs_list = [coeffs['Intercept']]\n",
    "       \n",
    "    for name in var_list:\n",
    "        if \"age\" in name:\n",
    "            trans = \"C(age)[T.\"+name[3:]+\"]\"\n",
    "        elif \"sex\" in name:\n",
    "            trans = \"C(sex)[T.\"+name[3:]+\"]\"\n",
    "        elif \"year\" in name:\n",
    "            trans = \"C(year)[T.\"+name[4:]+\"]\"\n",
    "        if trans in coeffs.index:\n",
    "            trans_list.append(trans)\n",
    "            coeffs_list.append(coeffs[trans])\n",
    "    \n",
    "    linear_est = sum(coeffs_list)\n",
    "    score = stats.t.ppf(1-alpha/2, res.df_resid)\n",
    "\n",
    "    variance = 0\n",
    "    for a, b in combinations_with_replacement(trans_list, 2):\n",
    "        if a == b:\n",
    "            variance += cov_matrix[a][b]\n",
    "        else:\n",
    "            variance += 2*cov_matrix[a][b]\n",
    "    \n",
    "    output = pd.DataFrame({\"estimate\": [linear_est], \n",
    "                           \"se\": [np.sqrt(variance)],\n",
    "                           \"lower\": [linear_est-score*np.sqrt(variance)], \n",
    "                           \"upper\": [linear_est+score*np.sqrt(variance)]})\n",
    "    \n",
    "    return output"
   ]
  },
  {
   "cell_type": "code",
   "execution_count": 138,

   "execution_count": 16,

   "metadata": {},
   "outputs": [
    {
     "data": {
      "text/html": [
       "<div>\n",
       "<style scoped>\n",
       "    .dataframe tbody tr th:only-of-type {\n",
       "        vertical-align: middle;\n",
       "    }\n",
       "\n",
       "    .dataframe tbody tr th {\n",
       "        vertical-align: top;\n",
       "    }\n",
       "\n",
       "    .dataframe thead th {\n",
       "        text-align: right;\n",
       "    }\n",
       "</style>\n",
       "<table border=\"1\" class=\"dataframe\">\n",
       "  <thead>\n",
       "    <tr style=\"text-align: right;\">\n",
       "      <th></th>\n",
       "      <th>estimate</th>\n",
       "      <th>se</th>\n",
       "      <th>lower</th>\n",
       "      <th>upper</th>\n",
       "    </tr>\n",
       "  </thead>\n",
       "  <tbody>\n",
       "    <tr>\n",
       "      <th>0</th>\n",

       "      <td>-8.686544</td>\n",
       "      <td>0.002471</td>\n",
       "      <td>-8.691387</td>\n",
       "      <td>-8.681701</td>\n",
       "    </tr>\n",
       "  </tbody>\n",
       "</table>\n",
       "</div>"
      ],
      "text/plain": [
       "   estimate        se     lower     upper\n",
       "0 -8.686544  0.002471 -8.691387 -8.681701"
      ]
     },
     "execution_count": 138,
     "metadata": {},
     "output_type": "execute_result"
    }
   ],
   "source": [
    "lcom([\"sexmale\", \"age25-34 years\", \"year2015\"], coeffs, cov_matrix, alpha=0.05)"
   ]
  },
  {
   "cell_type": "code",
   "execution_count": 130,
   "metadata": {},
   "outputs": [
    {
     "data": {
      "text/html": [
       "<div>\n",
       "<style scoped>\n",
       "    .dataframe tbody tr th:only-of-type {\n",
       "        vertical-align: middle;\n",
       "    }\n",
       "\n",
       "    .dataframe tbody tr th {\n",
       "        vertical-align: top;\n",
       "    }\n",
       "\n",
       "    .dataframe thead th {\n",
       "        text-align: right;\n",
       "    }\n",
       "</style>\n",
       "<table border=\"1\" class=\"dataframe\">\n",
       "  <thead>\n",
       "    <tr style=\"text-align: right;\">\n",
       "      <th></th>\n",
       "      <th>estimate</th>\n",
       "      <th>se</th>\n",
       "      <th>lower</th>\n",
       "      <th>upper</th>\n",
       "    </tr>\n",
       "  </thead>\n",
       "  <tbody>\n",
       "    <tr>\n",
       "      <th>0</th>\n",
       "      <td>-8.479593</td>\n",
       "      <td>0.00231</td>\n",
       "      <td>-8.48412</td>\n",
       "      <td>-8.475065</td>\n",
       "    </tr>\n",
       "  </tbody>\n",
       "</table>\n",
       "</div>"
      ],
      "text/plain": [
       "   estimate       se    lower     upper\n",
       "0 -8.479593  0.00231 -8.48412 -8.475065"
      ]
     },
     "execution_count": 130,
     "metadata": {},
     "output_type": "execute_result"
    }
   ],
   "source": [
    "lcom([\"sexmale\", \"age25-34 years\", \"year2005\"], coeffs, cov_matrix, alpha=0.05)"
   ]
  },
  {
   "cell_type": "code",
   "execution_count": 132,
   "metadata": {},
   "outputs": [
    {
     "data": {
      "text/html": [
       "<div>\n",
       "<style scoped>\n",
       "    .dataframe tbody tr th:only-of-type {\n",
       "        vertical-align: middle;\n",
       "    }\n",
       "\n",
       "    .dataframe tbody tr th {\n",
       "        vertical-align: top;\n",
       "    }\n",
       "\n",
       "    .dataframe thead th {\n",
       "        text-align: right;\n",
       "    }\n",
       "</style>\n",
       "<table border=\"1\" class=\"dataframe\">\n",
       "  <thead>\n",
       "    <tr style=\"text-align: right;\">\n",
       "      <th></th>\n",
       "      <th>estimate</th>\n",
       "      <th>se</th>\n",
       "      <th>lower</th>\n",
       "      <th>upper</th>\n",
       "    </tr>\n",
       "  </thead>\n",
       "  <tbody>\n",
       "    <tr>\n",
       "      <th>0</th>\n",
       "      <td>-8.425705</td>\n",
       "      <td>0.002379</td>\n",
       "      <td>-8.430369</td>\n",
       "      <td>-8.421042</td>\n",
       "    </tr>\n",
       "  </tbody>\n",
       "</table>\n",
       "</div>"
      ],
      "text/plain": [
       "   estimate        se     lower     upper\n",
       "0 -8.425705  0.002379 -8.430369 -8.421042"
      ]
     },
     "execution_count": 132,
     "metadata": {},
     "output_type": "execute_result"
    }
   ],
   "source": [
    "lcom([\"sexmale\", \"age35-54 years\", \"year2015\"], coeffs, cov_matrix, alpha=0.05)"
   ]
  },
  {
   "cell_type": "code",
   "execution_count": 133,
   "metadata": {},
   "outputs": [
    {
     "data": {
      "text/html": [
       "<div>\n",
       "<style scoped>\n",
       "    .dataframe tbody tr th:only-of-type {\n",
       "        vertical-align: middle;\n",
       "    }\n",
       "\n",
       "    .dataframe tbody tr th {\n",
       "        vertical-align: top;\n",
       "    }\n",
       "\n",
       "    .dataframe thead th {\n",
       "        text-align: right;\n",
       "    }\n",
       "</style>\n",
       "<table border=\"1\" class=\"dataframe\">\n",
       "  <thead>\n",
       "    <tr style=\"text-align: right;\">\n",
       "      <th></th>\n",
       "      <th>estimate</th>\n",
       "      <th>se</th>\n",
       "      <th>lower</th>\n",
       "      <th>upper</th>\n",
       "    </tr>\n",
       "  </thead>\n",
       "  <tbody>\n",
       "    <tr>\n",
       "      <th>0</th>\n",
       "      <td>-9.733814</td>\n",
       "      <td>0.002475</td>\n",
       "      <td>-9.738666</td>\n",
       "      <td>-9.728962</td>\n",
       "    </tr>\n",
       "  </tbody>\n",
       "</table>\n",
       "</div>"
      ],
      "text/plain": [
       "   estimate        se     lower     upper\n",
       "0 -9.733814  0.002475 -9.738666 -9.728962"
      ]
     },
     "execution_count": 133,
     "metadata": {},
     "output_type": "execute_result"
    }
   ],
   "source": [
    "lcom([\"sexfemale\", \"age35-54 years\", \"year2015\"], coeffs, cov_matrix, alpha=0.05)"
   ]
  },
  {
   "cell_type": "code",
   "execution_count": 134,
   "metadata": {},
   "outputs": [
    {
     "data": {
      "text/html": [
       "<div>\n",
       "<style scoped>\n",
       "    .dataframe tbody tr th:only-of-type {\n",
       "        vertical-align: middle;\n",
       "    }\n",
       "\n",
       "    .dataframe tbody tr th {\n",
       "        vertical-align: top;\n",
       "    }\n",
       "\n",
       "    .dataframe thead th {\n",
       "        text-align: right;\n",
       "    }\n",
       "</style>\n",
       "<table border=\"1\" class=\"dataframe\">\n",
       "  <thead>\n",
       "    <tr style=\"text-align: right;\">\n",
       "      <th></th>\n",
       "      <th>estimate</th>\n",
       "      <th>se</th>\n",
       "      <th>lower</th>\n",
       "      <th>upper</th>\n",
       "    </tr>\n",
       "  </thead>\n",
       "  <tbody>\n",
       "    <tr>\n",
       "      <th>0</th>\n",
       "      <td>-7.883056</td>\n",
       "      <td>0.002632</td>\n",
       "      <td>-7.888214</td>\n",
       "      <td>-7.877898</td>\n",
       "    </tr>\n",
       "  </tbody>\n",
       "</table>\n",
       "</div>"
      ],
      "text/plain": [
       "   estimate        se     lower     upper\n",
       "0 -7.883056  0.002632 -7.888214 -7.877898"
      ]
     },
     "execution_count": 134,
     "metadata": {},
     "output_type": "execute_result"
    }
   ],
   "source": [
    "lcom([\"sexmale\", \"age75+ years\", \"year2015\"], coeffs, cov_matrix, alpha=0.05)"
   ]
  },
  {
   "cell_type": "code",
   "execution_count": 135,
   "metadata": {},
   "outputs": [
    {
     "data": {
      "text/html": [
       "<div>\n",
       "<style scoped>\n",
       "    .dataframe tbody tr th:only-of-type {\n",
       "        vertical-align: middle;\n",
       "    }\n",
       "\n",
       "    .dataframe tbody tr th {\n",
       "        vertical-align: top;\n",
       "    }\n",
       "\n",
       "    .dataframe thead th {\n",
       "        text-align: right;\n",
       "    }\n",
       "</style>\n",
       "<table border=\"1\" class=\"dataframe\">\n",
       "  <thead>\n",
       "    <tr style=\"text-align: right;\">\n",
       "      <th></th>\n",
       "      <th>estimate</th>\n",
       "      <th>se</th>\n",
       "      <th>lower</th>\n",
       "      <th>upper</th>\n",
       "    </tr>\n",
       "  </thead>\n",
       "  <tbody>\n",
       "    <tr>\n",
       "      <th>0</th>\n",
       "      <td>-11.764154</td>\n",
       "      <td>0.004933</td>\n",
       "      <td>-11.773823</td>\n",
       "      <td>-11.754486</td>\n",
       "    </tr>\n",
       "  </tbody>\n",
       "</table>\n",
       "</div>"
      ],
      "text/plain": [
       "    estimate        se      lower      upper\n",
       "0 -11.764154  0.004933 -11.773823 -11.754486"
      ]
     },

     "execution_count": 135,

     "metadata": {},
     "output_type": "execute_result"
    }
   ],
   "source": [
    "lcom([\"sexmale\", \"age5-14 years\", \"year2015\"], coeffs, cov_matrix, alpha=0.05)"
   ]
  },
  {
   "cell_type": "markdown",
   "metadata": {},
   "source": [
    "### 4. Nonlinear combination "
   ]
  },
  {
   "cell_type": "markdown",
   "metadata": {},
   "source": [
    "### 5. Visualization "
   ]
  },
  {
   "cell_type": "code",

   "execution_count": 142,

   "metadata": {},
   "outputs": [],
   "source": [
    "var_list1 = [\"sexmale\", \"age25-34 years\", \"year2015\"]\n",
    "var_list2 = [\"sexmale\", \"age25-34 years\", \"year2005\"]"
   ]
  },
  {
   "cell_type": "code",

   "execution_count": 159,

   "metadata": {},
   "outputs": [],
   "source": [
    "def plot_comparison(var_list1, var_list2):\n",
    "    \n",
    "    common = list(set(var_list2).intersection(var_list1))\n",
    "    \n",
    "    df1 = lcom(var_list1, coeffs, cov_matrix, alpha=0.05)\n",
    "    df1.index = list(set(var_list1)-set(common))\n",
    "    df2 = lcom(var_list2, coeffs, cov_matrix, alpha=0.05)\n",
    "    df2.index = list(set(var_list2)-set(common))\n",
    "    df = df1.append(df2)\n",
    "    \n",
    "    return df"
   ]
  },
  {
   "cell_type": "code",

   "execution_count": 161,

   "metadata": {},
   "outputs": [],
   "source": [
    "df = plot_comparison(var_list1, var_list2)"
   ]
  }
 ],
 "metadata": {
  "kernelspec": {
   "display_name": "Python 3",
   "language": "python",
   "name": "python3"
  },
  "language_info": {
   "codemirror_mode": {
    "name": "ipython",
    "version": 3
   },
   "file_extension": ".py",
   "mimetype": "text/x-python",
   "name": "python",
   "nbconvert_exporter": "python",
   "pygments_lexer": "ipython3",
   "version": "3.7.7"
  }
 },
 "nbformat": 4,
 "nbformat_minor": 4
}
